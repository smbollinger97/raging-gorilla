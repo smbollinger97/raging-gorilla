{
 "cells": [
  {
   "cell_type": "code",
   "execution_count": 1,
   "metadata": {},
   "outputs": [],
   "source": [
    "#Neural network program using Long Short Term Memory (LSTM) to predict future stock prices"
   ]
  },
  {
   "cell_type": "code",
   "execution_count": 2,
   "metadata": {},
   "outputs": [
    {
     "name": "stdout",
     "output_type": "stream",
     "text": [
      "Requirement already satisfied: sklearn in c:\\users\\smbol\\anaconda3\\lib\\site-packages (0.0)\n",
      "Requirement already satisfied: scikit-learn in c:\\users\\smbol\\anaconda3\\lib\\site-packages (from sklearn) (0.23.2)\n",
      "Requirement already satisfied: threadpoolctl>=2.0.0 in c:\\users\\smbol\\anaconda3\\lib\\site-packages (from scikit-learn->sklearn) (2.1.0)\n",
      "Requirement already satisfied: numpy>=1.13.3 in c:\\users\\smbol\\anaconda3\\lib\\site-packages (from scikit-learn->sklearn) (1.18.5)\n",
      "Requirement already satisfied: scipy>=0.19.1 in c:\\users\\smbol\\anaconda3\\lib\\site-packages (from scikit-learn->sklearn) (1.5.2)\n",
      "Requirement already satisfied: joblib>=0.11 in c:\\users\\smbol\\anaconda3\\lib\\site-packages (from scikit-learn->sklearn) (0.17.0)\n",
      "Requirement already satisfied: tensorflow in c:\\users\\smbol\\anaconda3\\lib\\site-packages (2.3.1)\n",
      "Requirement already satisfied: six>=1.12.0 in c:\\users\\smbol\\appdata\\roaming\\python\\python37\\site-packages (from tensorflow) (1.15.0)\n",
      "Requirement already satisfied: absl-py>=0.7.0 in c:\\users\\smbol\\anaconda3\\lib\\site-packages (from tensorflow) (0.11.0)\n",
      "Requirement already satisfied: wheel>=0.26 in c:\\users\\smbol\\anaconda3\\lib\\site-packages (from tensorflow) (0.35.1)\n",
      "Requirement already satisfied: tensorflow-estimator<2.4.0,>=2.3.0 in c:\\users\\smbol\\anaconda3\\lib\\site-packages (from tensorflow) (2.3.0)\n",
      "Requirement already satisfied: wrapt>=1.11.1 in c:\\users\\smbol\\anaconda3\\lib\\site-packages (from tensorflow) (1.11.2)\n",
      "Requirement already satisfied: gast==0.3.3 in c:\\users\\smbol\\anaconda3\\lib\\site-packages (from tensorflow) (0.3.3)\n",
      "Requirement already satisfied: numpy<1.19.0,>=1.16.0 in c:\\users\\smbol\\anaconda3\\lib\\site-packages (from tensorflow) (1.18.5)\n",
      "Requirement already satisfied: grpcio>=1.8.6 in c:\\users\\smbol\\anaconda3\\lib\\site-packages (from tensorflow) (1.34.0)\n",
      "Requirement already satisfied: tensorboard<3,>=2.3.0 in c:\\users\\smbol\\anaconda3\\lib\\site-packages (from tensorflow) (2.4.0)\n",
      "Requirement already satisfied: termcolor>=1.1.0 in c:\\users\\smbol\\anaconda3\\lib\\site-packages (from tensorflow) (1.1.0)\n",
      "Requirement already satisfied: h5py<2.11.0,>=2.10.0 in c:\\users\\smbol\\anaconda3\\lib\\site-packages (from tensorflow) (2.10.0)\n",
      "Requirement already satisfied: protobuf>=3.9.2 in c:\\users\\smbol\\anaconda3\\lib\\site-packages (from tensorflow) (3.14.0)\n",
      "Requirement already satisfied: astunparse==1.6.3 in c:\\users\\smbol\\anaconda3\\lib\\site-packages (from tensorflow) (1.6.3)\n",
      "Requirement already satisfied: google-pasta>=0.1.8 in c:\\users\\smbol\\anaconda3\\lib\\site-packages (from tensorflow) (0.2.0)\n",
      "Requirement already satisfied: opt-einsum>=2.3.2 in c:\\users\\smbol\\anaconda3\\lib\\site-packages (from tensorflow) (3.3.0)\n",
      "Requirement already satisfied: keras-preprocessing<1.2,>=1.1.1 in c:\\users\\smbol\\anaconda3\\lib\\site-packages (from tensorflow) (1.1.2)\n",
      "Requirement already satisfied: requests<3,>=2.21.0 in c:\\users\\smbol\\appdata\\roaming\\python\\python37\\site-packages (from tensorboard<3,>=2.3.0->tensorflow) (2.25.0)\n",
      "Requirement already satisfied: werkzeug>=0.11.15 in c:\\users\\smbol\\anaconda3\\lib\\site-packages (from tensorboard<3,>=2.3.0->tensorflow) (1.0.1)\n",
      "Requirement already satisfied: google-auth<2,>=1.6.3 in c:\\users\\smbol\\anaconda3\\lib\\site-packages (from tensorboard<3,>=2.3.0->tensorflow) (1.24.0)\n",
      "Requirement already satisfied: setuptools>=41.0.0 in c:\\users\\smbol\\anaconda3\\lib\\site-packages (from tensorboard<3,>=2.3.0->tensorflow) (50.3.1.post20201107)\n",
      "Requirement already satisfied: tensorboard-plugin-wit>=1.6.0 in c:\\users\\smbol\\anaconda3\\lib\\site-packages (from tensorboard<3,>=2.3.0->tensorflow) (1.7.0)\n",
      "Requirement already satisfied: google-auth-oauthlib<0.5,>=0.4.1 in c:\\users\\smbol\\anaconda3\\lib\\site-packages (from tensorboard<3,>=2.3.0->tensorflow) (0.4.2)\n",
      "Requirement already satisfied: markdown>=2.6.8 in c:\\users\\smbol\\anaconda3\\lib\\site-packages (from tensorboard<3,>=2.3.0->tensorflow) (3.3.3)\n",
      "Requirement already satisfied: certifi>=2017.4.17 in c:\\users\\smbol\\appdata\\roaming\\python\\python37\\site-packages (from requests<3,>=2.21.0->tensorboard<3,>=2.3.0->tensorflow) (2020.11.8)\n",
      "Requirement already satisfied: urllib3<1.27,>=1.21.1 in c:\\users\\smbol\\appdata\\roaming\\python\\python37\\site-packages (from requests<3,>=2.21.0->tensorboard<3,>=2.3.0->tensorflow) (1.26.2)\n",
      "Requirement already satisfied: idna<3,>=2.5 in c:\\users\\smbol\\appdata\\roaming\\python\\python37\\site-packages (from requests<3,>=2.21.0->tensorboard<3,>=2.3.0->tensorflow) (2.10)\n",
      "Requirement already satisfied: chardet<4,>=3.0.2 in c:\\users\\smbol\\appdata\\roaming\\python\\python37\\site-packages (from requests<3,>=2.21.0->tensorboard<3,>=2.3.0->tensorflow) (3.0.4)\n",
      "Requirement already satisfied: rsa<5,>=3.1.4; python_version >= \"3.6\" in c:\\users\\smbol\\anaconda3\\lib\\site-packages (from google-auth<2,>=1.6.3->tensorboard<3,>=2.3.0->tensorflow) (4.6)\n",
      "Requirement already satisfied: pyasn1-modules>=0.2.1 in c:\\users\\smbol\\anaconda3\\lib\\site-packages (from google-auth<2,>=1.6.3->tensorboard<3,>=2.3.0->tensorflow) (0.2.8)\n",
      "Requirement already satisfied: cachetools<5.0,>=2.0.0 in c:\\users\\smbol\\anaconda3\\lib\\site-packages (from google-auth<2,>=1.6.3->tensorboard<3,>=2.3.0->tensorflow) (4.2.0)\n",
      "Requirement already satisfied: requests-oauthlib>=0.7.0 in c:\\users\\smbol\\anaconda3\\lib\\site-packages (from google-auth-oauthlib<0.5,>=0.4.1->tensorboard<3,>=2.3.0->tensorflow) (1.3.0)\n",
      "Requirement already satisfied: importlib-metadata; python_version < \"3.8\" in c:\\users\\smbol\\anaconda3\\lib\\site-packages (from markdown>=2.6.8->tensorboard<3,>=2.3.0->tensorflow) (2.0.0)\n",
      "Requirement already satisfied: pyasn1>=0.1.3 in c:\\users\\smbol\\anaconda3\\lib\\site-packages (from rsa<5,>=3.1.4; python_version >= \"3.6\"->google-auth<2,>=1.6.3->tensorboard<3,>=2.3.0->tensorflow) (0.4.8)\n",
      "Requirement already satisfied: oauthlib>=3.0.0 in c:\\users\\smbol\\anaconda3\\lib\\site-packages (from requests-oauthlib>=0.7.0->google-auth-oauthlib<0.5,>=0.4.1->tensorboard<3,>=2.3.0->tensorflow) (3.1.0)\n",
      "Requirement already satisfied: zipp>=0.5 in c:\\users\\smbol\\anaconda3\\lib\\site-packages (from importlib-metadata; python_version < \"3.8\"->markdown>=2.6.8->tensorboard<3,>=2.3.0->tensorflow) (3.4.0)\n",
      "Requirement already satisfied: pandas_datareader in c:\\users\\smbol\\appdata\\roaming\\python\\python37\\site-packages (0.9.0)\n",
      "Requirement already satisfied: requests>=2.19.0 in c:\\users\\smbol\\appdata\\roaming\\python\\python37\\site-packages (from pandas_datareader) (2.25.0)\n",
      "Requirement already satisfied: pandas>=0.23 in c:\\users\\smbol\\appdata\\roaming\\python\\python37\\site-packages (from pandas_datareader) (1.1.4)\n",
      "Requirement already satisfied: lxml in c:\\users\\smbol\\appdata\\roaming\\python\\python37\\site-packages (from pandas_datareader) (4.6.1)\n",
      "Requirement already satisfied: idna<3,>=2.5 in c:\\users\\smbol\\appdata\\roaming\\python\\python37\\site-packages (from requests>=2.19.0->pandas_datareader) (2.10)\n",
      "Requirement already satisfied: certifi>=2017.4.17 in c:\\users\\smbol\\appdata\\roaming\\python\\python37\\site-packages (from requests>=2.19.0->pandas_datareader) (2020.11.8)\n",
      "Requirement already satisfied: chardet<4,>=3.0.2 in c:\\users\\smbol\\appdata\\roaming\\python\\python37\\site-packages (from requests>=2.19.0->pandas_datareader) (3.0.4)\n",
      "Requirement already satisfied: urllib3<1.27,>=1.21.1 in c:\\users\\smbol\\appdata\\roaming\\python\\python37\\site-packages (from requests>=2.19.0->pandas_datareader) (1.26.2)\n",
      "Requirement already satisfied: python-dateutil>=2.7.3 in c:\\users\\smbol\\appdata\\roaming\\python\\python37\\site-packages (from pandas>=0.23->pandas_datareader) (2.8.1)\n",
      "Requirement already satisfied: pytz>=2017.2 in c:\\users\\smbol\\appdata\\roaming\\python\\python37\\site-packages (from pandas>=0.23->pandas_datareader) (2020.4)\n",
      "Requirement already satisfied: numpy>=1.15.4 in c:\\users\\smbol\\anaconda3\\lib\\site-packages (from pandas>=0.23->pandas_datareader) (1.18.5)\n",
      "Requirement already satisfied: six>=1.5 in c:\\users\\smbol\\appdata\\roaming\\python\\python37\\site-packages (from python-dateutil>=2.7.3->pandas>=0.23->pandas_datareader) (1.15.0)\n",
      "Requirement already satisfied: numpy in c:\\users\\smbol\\anaconda3\\lib\\site-packages (1.18.5)\n",
      "Requirement already satisfied: pandas in c:\\users\\smbol\\appdata\\roaming\\python\\python37\\site-packages (1.1.4)\n",
      "Requirement already satisfied: pytz>=2017.2 in c:\\users\\smbol\\appdata\\roaming\\python\\python37\\site-packages (from pandas) (2020.4)\n",
      "Requirement already satisfied: numpy>=1.15.4 in c:\\users\\smbol\\anaconda3\\lib\\site-packages (from pandas) (1.18.5)\n",
      "Requirement already satisfied: python-dateutil>=2.7.3 in c:\\users\\smbol\\appdata\\roaming\\python\\python37\\site-packages (from pandas) (2.8.1)\n",
      "Requirement already satisfied: six>=1.5 in c:\\users\\smbol\\appdata\\roaming\\python\\python37\\site-packages (from python-dateutil>=2.7.3->pandas) (1.15.0)\n"
     ]
    },
    {
     "name": "stdout",
     "output_type": "stream",
     "text": [
      "Requirement already satisfied: keras in c:\\users\\smbol\\anaconda3\\lib\\site-packages (2.4.3)\n",
      "Requirement already satisfied: scipy>=0.14 in c:\\users\\smbol\\anaconda3\\lib\\site-packages (from keras) (1.5.2)\n",
      "Requirement already satisfied: numpy>=1.9.1 in c:\\users\\smbol\\anaconda3\\lib\\site-packages (from keras) (1.18.5)\n",
      "Requirement already satisfied: h5py in c:\\users\\smbol\\anaconda3\\lib\\site-packages (from keras) (2.10.0)\n",
      "Requirement already satisfied: pyyaml in c:\\users\\smbol\\anaconda3\\lib\\site-packages (from keras) (5.3.1)\n",
      "Requirement already satisfied: six in c:\\users\\smbol\\appdata\\roaming\\python\\python37\\site-packages (from h5py->keras) (1.15.0)\n",
      "Requirement already satisfied: matplotlib in c:\\users\\smbol\\anaconda3\\lib\\site-packages (3.3.2)\n",
      "Requirement already satisfied: pyparsing!=2.0.4,!=2.1.2,!=2.1.6,>=2.0.3 in c:\\users\\smbol\\anaconda3\\lib\\site-packages (from matplotlib) (2.4.7)\n",
      "Requirement already satisfied: pillow>=6.2.0 in c:\\users\\smbol\\anaconda3\\lib\\site-packages (from matplotlib) (8.0.1)\n",
      "Requirement already satisfied: cycler>=0.10 in c:\\users\\smbol\\anaconda3\\lib\\site-packages (from matplotlib) (0.10.0)\n",
      "Requirement already satisfied: kiwisolver>=1.0.1 in c:\\users\\smbol\\anaconda3\\lib\\site-packages (from matplotlib) (1.3.0)\n",
      "Requirement already satisfied: certifi>=2020.06.20 in c:\\users\\smbol\\appdata\\roaming\\python\\python37\\site-packages (from matplotlib) (2020.11.8)\n",
      "Requirement already satisfied: python-dateutil>=2.1 in c:\\users\\smbol\\appdata\\roaming\\python\\python37\\site-packages (from matplotlib) (2.8.1)\n",
      "Requirement already satisfied: numpy>=1.15 in c:\\users\\smbol\\anaconda3\\lib\\site-packages (from matplotlib) (1.18.5)\n",
      "Requirement already satisfied: six in c:\\users\\smbol\\appdata\\roaming\\python\\python37\\site-packages (from cycler>=0.10->matplotlib) (1.15.0)\n",
      "Requirement already satisfied: seaborn in c:\\users\\smbol\\anaconda3\\lib\\site-packages (0.11.0)\n",
      "Requirement already satisfied: scipy>=1.0 in c:\\users\\smbol\\anaconda3\\lib\\site-packages (from seaborn) (1.5.2)\n",
      "Requirement already satisfied: matplotlib>=2.2 in c:\\users\\smbol\\anaconda3\\lib\\site-packages (from seaborn) (3.3.2)\n",
      "Requirement already satisfied: pandas>=0.23 in c:\\users\\smbol\\appdata\\roaming\\python\\python37\\site-packages (from seaborn) (1.1.4)\n",
      "Requirement already satisfied: numpy>=1.15 in c:\\users\\smbol\\anaconda3\\lib\\site-packages (from seaborn) (1.18.5)\n",
      "Requirement already satisfied: certifi>=2020.06.20 in c:\\users\\smbol\\appdata\\roaming\\python\\python37\\site-packages (from matplotlib>=2.2->seaborn) (2020.11.8)\n",
      "Requirement already satisfied: pillow>=6.2.0 in c:\\users\\smbol\\anaconda3\\lib\\site-packages (from matplotlib>=2.2->seaborn) (8.0.1)\n",
      "Requirement already satisfied: cycler>=0.10 in c:\\users\\smbol\\anaconda3\\lib\\site-packages (from matplotlib>=2.2->seaborn) (0.10.0)\n",
      "Requirement already satisfied: pyparsing!=2.0.4,!=2.1.2,!=2.1.6,>=2.0.3 in c:\\users\\smbol\\anaconda3\\lib\\site-packages (from matplotlib>=2.2->seaborn) (2.4.7)\n",
      "Requirement already satisfied: python-dateutil>=2.1 in c:\\users\\smbol\\appdata\\roaming\\python\\python37\\site-packages (from matplotlib>=2.2->seaborn) (2.8.1)\n",
      "Requirement already satisfied: kiwisolver>=1.0.1 in c:\\users\\smbol\\anaconda3\\lib\\site-packages (from matplotlib>=2.2->seaborn) (1.3.0)\n",
      "Requirement already satisfied: pytz>=2017.2 in c:\\users\\smbol\\appdata\\roaming\\python\\python37\\site-packages (from pandas>=0.23->seaborn) (2020.4)\n",
      "Requirement already satisfied: six in c:\\users\\smbol\\appdata\\roaming\\python\\python37\\site-packages (from cycler>=0.10->matplotlib>=2.2->seaborn) (1.15.0)\n",
      "Requirement already satisfied: beautifulsoup4 in c:\\users\\smbol\\anaconda3\\lib\\site-packages (4.9.3)\n",
      "Requirement already satisfied: soupsieve>1.2; python_version >= \"3.0\" in c:\\users\\smbol\\anaconda3\\lib\\site-packages (from beautifulsoup4) (2.0.1)\n",
      "Collecting datetime\n",
      "  Using cached DateTime-4.3-py2.py3-none-any.whl (60 kB)\n",
      "Requirement already satisfied: zope.interface in c:\\users\\smbol\\anaconda3\\lib\\site-packages (from datetime) (5.1.2)\n",
      "Requirement already satisfied: pytz in c:\\users\\smbol\\appdata\\roaming\\python\\python37\\site-packages (from datetime) (2020.4)\n",
      "Requirement already satisfied: setuptools in c:\\users\\smbol\\anaconda3\\lib\\site-packages (from zope.interface->datetime) (50.3.1.post20201107)\n",
      "Installing collected packages: datetime\n",
      "Successfully installed datetime-4.3\n"
     ]
    }
   ],
   "source": [
    "#Download Libraries (Downloads libraries to your computer automatically)\n",
    "import sys\n",
    "!{sys.executable} -m pip install sklearn\n",
    "!{sys.executable} -m pip install tensorflow\n",
    "!{sys.executable} -m pip install pandas_datareader\n",
    "!{sys.executable} -m pip install numpy\n",
    "!{sys.executable} -m pip install pandas\n",
    "!{sys.executable} -m pip install keras\n",
    "!{sys.executable} -m pip install matplotlib\n",
    "!{sys.executable} -m pip install seaborn\n",
    "!{sys.executable} -m pip install beautifulsoup4\n",
    "!{sys.executable} -m pip install datetime\n",
    "\n",
    "#Import Libraries (Import libraries to this program)\n",
    "import math\n",
    "import pandas_datareader as web\n",
    "import numpy as np\n",
    "import pandas as pd\n",
    "from sklearn.preprocessing import MinMaxScaler\n",
    "from keras.models import Sequential\n",
    "from keras.layers import Dense, LSTM\n",
    "from bs4 import BeautifulSoup as bs\n",
    "import matplotlib.pyplot as plt\n",
    "from datetime import datetime , timedelta\n",
    "import seaborn as sns\n",
    "plt.style.use('fivethirtyeight')"
   ]
  },
  {
   "cell_type": "code",
   "execution_count": 5,
   "metadata": {},
   "outputs": [],
   "source": [
    "today = datetime.today()\n",
    "six_months_ago =  datetime.today() - timedelta(days = 252)\n",
    "start_date = \"2015-1-1\"\n",
    "days_to_forecast= 252\n",
    "simulation_trials= 10000"
   ]
  },
  {
   "cell_type": "code",
   "execution_count": 6,
   "metadata": {},
   "outputs": [],
   "source": [
    "data = pd.DataFrame()\n",
    "\n",
    "\n",
    "def import_stock_data(tickers, start, end = datetime.today().strftime('%Y-%m-%d')):\n",
    "    data = pd.DataFrame()\n",
    "    if len([tickers]) == 1:\n",
    "        data[tickers] = web.DataReader(tickers, data_source='yahoo', start = start)['Adj Close']\n",
    "        data = pd.DataFrame(data)\n",
    "    else:\n",
    "        for t in tickers:\n",
    "            data[t] = web.DataReader(t, data_source='yahoo', start = start)['Adj Close']\n",
    "    return(data)"
   ]
  },
  {
   "cell_type": "code",
   "execution_count": 14,
   "metadata": {},
   "outputs": [
    {
     "name": "stdout",
     "output_type": "stream",
     "text": [
      "                  AAPL        MSFT        AMD       BILI\n",
      "Date                                                    \n",
      "2015-01-02   24.696352   41.539135   2.670000        NaN\n",
      "2015-01-05   24.000614   41.157158   2.660000        NaN\n",
      "2015-01-06   24.002876   40.553074   2.630000        NaN\n",
      "2015-01-07   24.339447   41.068310   2.580000        NaN\n",
      "2015-01-08   25.274624   42.276463   2.610000        NaN\n",
      "...                ...         ...        ...        ...\n",
      "2020-12-07  123.750000  214.289993  94.070000  72.550003\n",
      "2020-12-08  124.379997  216.009995  92.919998  75.300003\n",
      "2020-12-09  121.779999  211.800003  89.830002  73.059998\n",
      "2020-12-10  123.239998  210.520004  91.660004  75.709999\n",
      "2020-12-11  122.410004  213.259995  91.650002  75.910004\n",
      "\n",
      "[1498 rows x 4 columns]\n"
     ]
    },
    {
     "data": {
      "text/plain": [
       "[<matplotlib.lines.Line2D at 0x1a9fbc116c8>,\n",
       " <matplotlib.lines.Line2D at 0x1a9fbc0d7c8>,\n",
       " <matplotlib.lines.Line2D at 0x1a9fbc11ec8>,\n",
       " <matplotlib.lines.Line2D at 0x1a9fbc110c8>]"
      ]
     },
     "execution_count": 14,
     "metadata": {},
     "output_type": "execute_result"
    },
    {
     "data": {
      "image/png": "[encoded data removed]",
      "text/plain": [
       "<Figure size 432x288 with 1 Axes>"
      ]
     },
     "metadata": {},
     "output_type": "display_data"
    }
   ],
   "source": [
    "ticker =['AAPL','MSFT','AMD','BILI']\n",
    "stocks_df = import_stock_data(ticker, start_date, today)\n",
    "print(stocks_df)\n",
    "plt.plot(stocks_df)"
   ]
  },
  {
   "cell_type": "code",
   "execution_count": null,
   "metadata": {},
   "outputs": [],
   "source": []
  }
 ],
 "metadata": {
  "kernelspec": {
   "display_name": "Python 3",
   "language": "python",
   "name": "python3"
  },
  "language_info": {
   "codemirror_mode": {
    "name": "ipython",
    "version": 3
   },
   "file_extension": ".py",
   "mimetype": "text/x-python",
   "name": "python",
   "nbconvert_exporter": "python",
   "pygments_lexer": "ipython3",
   "version": "3.7.9"
  }
 },
 "nbformat": 4,
 "nbformat_minor": 4
}
